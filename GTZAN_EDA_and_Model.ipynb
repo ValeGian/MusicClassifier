{
 "cells": [
  {
   "cell_type": "code",
   "execution_count": 64,
   "metadata": {
    "pycharm": {
     "name": "#%%\n"
    }
   },
   "outputs": [],
   "source": [
    "import dataset as dt\n",
    "\n",
    "import math\n",
    "import numpy as np\n",
    "import pandas as pd\n",
    "from scipy import stats\n",
    "import pingouin as pg\n",
    "import matplotlib.pyplot as plt\n",
    "import seaborn as sns\n",
    "from IPython.display import display\n",
    "\n",
    "%matplotlib inline\n",
    "plt.style.use('ggplot')\n",
    "sns.set_theme(style=\"white\")"
   ]
  },
  {
   "cell_type": "code",
   "execution_count": 2,
   "metadata": {
    "pycharm": {
     "name": "#%%\n"
    }
   },
   "outputs": [],
   "source": [
    "df = dt.read_dataset()"
   ]
  },
  {
   "cell_type": "code",
   "execution_count": 3,
   "metadata": {
    "pycharm": {
     "name": "#%%\n"
    }
   },
   "outputs": [
    {
     "data": {
      "text/plain": "(1000, 27)"
     },
     "execution_count": 3,
     "metadata": {},
     "output_type": "execute_result"
    }
   ],
   "source": [
    "df.shape"
   ]
  },
  {
   "cell_type": "code",
   "execution_count": 4,
   "metadata": {
    "pycharm": {
     "name": "#%%\n"
    }
   },
   "outputs": [
    {
     "data": {
      "text/plain": "   chromagram       rms    spec_cent      spec_bw      rolloff       zcr  \\\n1    0.350088  0.130228  1784.165850  2002.449060  3805.839606  0.083045   \n2    0.340914  0.095948  1530.176679  2039.036516  3550.522098  0.056040   \n3    0.363637  0.175570  1552.811865  1747.702312  3042.260232  0.076291   \n4    0.404785  0.141093  1070.106615  1596.412872  2184.745799  0.033309   \n5    0.308526  0.091529  1835.004266  1748.172116  3579.757627  0.101461   \n\n        mfcc0       mfcc1      mfcc2      mfcc3  ...    mfcc11    mfcc12  \\\n1 -113.570650  121.571790 -19.168142  42.366420  ...  8.803792 -3.672300   \n2 -207.501700  123.991264   8.955127  35.877647  ...  5.376328 -2.231760   \n3  -90.722595  140.446300 -29.093890  31.684334  ...  5.791199 -8.907628   \n4 -199.544200  150.090900   5.662678  26.859080  ...  6.079319 -2.480174   \n5 -160.337700  126.219635 -35.587810  22.148071  ... -2.813867 -6.933385   \n\n     mfcc13    mfcc14    mfcc15    mfcc16    mfcc17    mfcc18     mfcc19  \\\n1  5.747995 -5.162882  0.752740 -1.690215 -0.408979 -2.303523   1.221290   \n2  4.220140 -6.012148  0.927997 -0.731125  0.295073 -0.283518   0.531216   \n3 -1.077000 -9.229274  2.451689 -7.729094 -1.816407 -3.439720  -2.231259   \n4 -1.079305 -2.870789  0.780873 -3.319596  0.636965 -0.619121  -3.407449   \n5 -7.552725 -9.164666 -4.520575 -5.454034 -0.916874 -4.404826 -11.703234   \n\n   genre  \n1  blues  \n2  blues  \n3  blues  \n4  blues  \n5  blues  \n\n[5 rows x 27 columns]",
      "text/html": "<div>\n<style scoped>\n    .dataframe tbody tr th:only-of-type {\n        vertical-align: middle;\n    }\n\n    .dataframe tbody tr th {\n        vertical-align: top;\n    }\n\n    .dataframe thead th {\n        text-align: right;\n    }\n</style>\n<table border=\"1\" class=\"dataframe\">\n  <thead>\n    <tr style=\"text-align: right;\">\n      <th></th>\n      <th>chromagram</th>\n      <th>rms</th>\n      <th>spec_cent</th>\n      <th>spec_bw</th>\n      <th>rolloff</th>\n      <th>zcr</th>\n      <th>mfcc0</th>\n      <th>mfcc1</th>\n      <th>mfcc2</th>\n      <th>mfcc3</th>\n      <th>...</th>\n      <th>mfcc11</th>\n      <th>mfcc12</th>\n      <th>mfcc13</th>\n      <th>mfcc14</th>\n      <th>mfcc15</th>\n      <th>mfcc16</th>\n      <th>mfcc17</th>\n      <th>mfcc18</th>\n      <th>mfcc19</th>\n      <th>genre</th>\n    </tr>\n  </thead>\n  <tbody>\n    <tr>\n      <th>1</th>\n      <td>0.350088</td>\n      <td>0.130228</td>\n      <td>1784.165850</td>\n      <td>2002.449060</td>\n      <td>3805.839606</td>\n      <td>0.083045</td>\n      <td>-113.570650</td>\n      <td>121.571790</td>\n      <td>-19.168142</td>\n      <td>42.366420</td>\n      <td>...</td>\n      <td>8.803792</td>\n      <td>-3.672300</td>\n      <td>5.747995</td>\n      <td>-5.162882</td>\n      <td>0.752740</td>\n      <td>-1.690215</td>\n      <td>-0.408979</td>\n      <td>-2.303523</td>\n      <td>1.221290</td>\n      <td>blues</td>\n    </tr>\n    <tr>\n      <th>2</th>\n      <td>0.340914</td>\n      <td>0.095948</td>\n      <td>1530.176679</td>\n      <td>2039.036516</td>\n      <td>3550.522098</td>\n      <td>0.056040</td>\n      <td>-207.501700</td>\n      <td>123.991264</td>\n      <td>8.955127</td>\n      <td>35.877647</td>\n      <td>...</td>\n      <td>5.376328</td>\n      <td>-2.231760</td>\n      <td>4.220140</td>\n      <td>-6.012148</td>\n      <td>0.927997</td>\n      <td>-0.731125</td>\n      <td>0.295073</td>\n      <td>-0.283518</td>\n      <td>0.531216</td>\n      <td>blues</td>\n    </tr>\n    <tr>\n      <th>3</th>\n      <td>0.363637</td>\n      <td>0.175570</td>\n      <td>1552.811865</td>\n      <td>1747.702312</td>\n      <td>3042.260232</td>\n      <td>0.076291</td>\n      <td>-90.722595</td>\n      <td>140.446300</td>\n      <td>-29.093890</td>\n      <td>31.684334</td>\n      <td>...</td>\n      <td>5.791199</td>\n      <td>-8.907628</td>\n      <td>-1.077000</td>\n      <td>-9.229274</td>\n      <td>2.451689</td>\n      <td>-7.729094</td>\n      <td>-1.816407</td>\n      <td>-3.439720</td>\n      <td>-2.231259</td>\n      <td>blues</td>\n    </tr>\n    <tr>\n      <th>4</th>\n      <td>0.404785</td>\n      <td>0.141093</td>\n      <td>1070.106615</td>\n      <td>1596.412872</td>\n      <td>2184.745799</td>\n      <td>0.033309</td>\n      <td>-199.544200</td>\n      <td>150.090900</td>\n      <td>5.662678</td>\n      <td>26.859080</td>\n      <td>...</td>\n      <td>6.079319</td>\n      <td>-2.480174</td>\n      <td>-1.079305</td>\n      <td>-2.870789</td>\n      <td>0.780873</td>\n      <td>-3.319596</td>\n      <td>0.636965</td>\n      <td>-0.619121</td>\n      <td>-3.407449</td>\n      <td>blues</td>\n    </tr>\n    <tr>\n      <th>5</th>\n      <td>0.308526</td>\n      <td>0.091529</td>\n      <td>1835.004266</td>\n      <td>1748.172116</td>\n      <td>3579.757627</td>\n      <td>0.101461</td>\n      <td>-160.337700</td>\n      <td>126.219635</td>\n      <td>-35.587810</td>\n      <td>22.148071</td>\n      <td>...</td>\n      <td>-2.813867</td>\n      <td>-6.933385</td>\n      <td>-7.552725</td>\n      <td>-9.164666</td>\n      <td>-4.520575</td>\n      <td>-5.454034</td>\n      <td>-0.916874</td>\n      <td>-4.404826</td>\n      <td>-11.703234</td>\n      <td>blues</td>\n    </tr>\n  </tbody>\n</table>\n<p>5 rows × 27 columns</p>\n</div>"
     },
     "execution_count": 4,
     "metadata": {},
     "output_type": "execute_result"
    }
   ],
   "source": [
    "df.head()"
   ]
  },
  {
   "cell_type": "code",
   "execution_count": 5,
   "metadata": {
    "pycharm": {
     "name": "#%%\n"
    }
   },
   "outputs": [
    {
     "name": "stdout",
     "output_type": "stream",
     "text": [
      "<class 'pandas.core.frame.DataFrame'>\n",
      "Int64Index: 1000 entries, 1 to 1000\n",
      "Data columns (total 27 columns):\n",
      " #   Column      Non-Null Count  Dtype  \n",
      "---  ------      --------------  -----  \n",
      " 0   chromagram  1000 non-null   float64\n",
      " 1   rms         1000 non-null   float64\n",
      " 2   spec_cent   1000 non-null   float64\n",
      " 3   spec_bw     1000 non-null   float64\n",
      " 4   rolloff     1000 non-null   float64\n",
      " 5   zcr         1000 non-null   float64\n",
      " 6   mfcc0       1000 non-null   float64\n",
      " 7   mfcc1       1000 non-null   float64\n",
      " 8   mfcc2       1000 non-null   float64\n",
      " 9   mfcc3       1000 non-null   float64\n",
      " 10  mfcc4       1000 non-null   float64\n",
      " 11  mfcc5       1000 non-null   float64\n",
      " 12  mfcc6       1000 non-null   float64\n",
      " 13  mfcc7       1000 non-null   float64\n",
      " 14  mfcc8       1000 non-null   float64\n",
      " 15  mfcc9       1000 non-null   float64\n",
      " 16  mfcc10      1000 non-null   float64\n",
      " 17  mfcc11      1000 non-null   float64\n",
      " 18  mfcc12      1000 non-null   float64\n",
      " 19  mfcc13      1000 non-null   float64\n",
      " 20  mfcc14      1000 non-null   float64\n",
      " 21  mfcc15      1000 non-null   float64\n",
      " 22  mfcc16      1000 non-null   float64\n",
      " 23  mfcc17      1000 non-null   float64\n",
      " 24  mfcc18      1000 non-null   float64\n",
      " 25  mfcc19      1000 non-null   float64\n",
      " 26  genre       1000 non-null   object \n",
      "dtypes: float64(26), object(1)\n",
      "memory usage: 218.8+ KB\n"
     ]
    }
   ],
   "source": [
    "df.info()"
   ]
  },
  {
   "cell_type": "code",
   "execution_count": 6,
   "metadata": {
    "pycharm": {
     "name": "#%%\n"
    }
   },
   "outputs": [
    {
     "data": {
      "text/plain": "      chromagram       rms    spec_cent      spec_bw      rolloff       zcr  \\\n1       0.350088  0.130228  1784.165850  2002.449060  3805.839606  0.083045   \n2       0.340914  0.095948  1530.176679  2039.036516  3550.522098  0.056040   \n3       0.363637  0.175570  1552.811865  1747.702312  3042.260232  0.076291   \n4       0.404785  0.141093  1070.106615  1596.412872  2184.745799  0.033309   \n5       0.308526  0.091529  1835.004266  1748.172116  3579.757627  0.101461   \n...          ...       ...          ...          ...          ...       ...   \n996     0.352063  0.079486  2008.149458  2106.541053  4253.557033  0.089227   \n997     0.398687  0.076458  2006.843354  2068.942009  4149.338328  0.097664   \n998     0.432142  0.081651  2077.526598  1927.293153  4031.405321  0.121823   \n999     0.362485  0.083860  1398.699344  1818.450280  3015.631004  0.048724   \n1000    0.358401  0.054454  1609.795082  1797.213044  3246.908930  0.076305   \n\n           mfcc0       mfcc1      mfcc2      mfcc3  ...     mfcc11     mfcc12  \\\n1    -113.570650  121.571790 -19.168142  42.366420  ...   8.803792  -3.672300   \n2    -207.501700  123.991264   8.955127  35.877647  ...   5.376328  -2.231760   \n3     -90.722595  140.446300 -29.093890  31.684334  ...   5.791199  -8.907628   \n4    -199.544200  150.090900   5.662678  26.859080  ...   6.079319  -2.480174   \n5    -160.337700  126.219635 -35.587810  22.148071  ...  -2.813867  -6.933385   \n...          ...         ...        ...        ...  ...        ...        ...   \n996  -153.640960  109.864650 -23.065697  59.050125  ...  12.348828 -12.297895   \n997  -142.392030  116.189630 -32.147167  49.117840  ...  14.080058 -16.392994   \n998  -124.952270  115.177155 -47.975150  52.814674  ...  10.474113 -17.947060   \n999  -225.007750  123.646770  -9.724175  56.605164  ...   7.682845 -10.070732   \n1000 -235.161970  123.870094 -22.538395  52.939743  ...  10.076435 -15.024692   \n\n        mfcc13     mfcc14    mfcc15     mfcc16    mfcc17     mfcc18  \\\n1     5.747995  -5.162882  0.752740  -1.690215 -0.408979  -2.303523   \n2     4.220140  -6.012148  0.927997  -0.731125  0.295073  -0.283518   \n3    -1.077000  -9.229274  2.451689  -7.729094 -1.816407  -3.439720   \n4    -1.079305  -2.870789  0.780873  -3.319596  0.636965  -0.619121   \n5    -7.552725  -9.164666 -4.520575  -5.454034 -0.916874  -4.404826   \n...        ...        ...       ...        ...       ...        ...   \n996   5.777902 -10.273881  1.789867 -13.289984  2.484145  -6.713265   \n997   4.154395  -4.364872  3.739020 -10.848310  1.881228  -7.461491   \n998   1.212127 -11.519417  1.838090 -12.845291  3.440978 -12.588070   \n999  -0.256386  -5.275369 -2.812177  -4.416050  1.556207  -5.041897   \n1000  3.116931  -7.123282  1.794104  -7.069775  0.028346  -2.025782   \n\n         mfcc19  genre  \n1      1.221290  blues  \n2      0.531216  blues  \n3     -2.231259  blues  \n4     -3.407449  blues  \n5    -11.703234  blues  \n...         ...    ...  \n996   -1.193787   rock  \n997   -2.795339   rock  \n998   -2.106337   rock  \n999   -3.590644   rock  \n1000   1.155238   rock  \n\n[985 rows x 27 columns]",
      "text/html": "<div>\n<style scoped>\n    .dataframe tbody tr th:only-of-type {\n        vertical-align: middle;\n    }\n\n    .dataframe tbody tr th {\n        vertical-align: top;\n    }\n\n    .dataframe thead th {\n        text-align: right;\n    }\n</style>\n<table border=\"1\" class=\"dataframe\">\n  <thead>\n    <tr style=\"text-align: right;\">\n      <th></th>\n      <th>chromagram</th>\n      <th>rms</th>\n      <th>spec_cent</th>\n      <th>spec_bw</th>\n      <th>rolloff</th>\n      <th>zcr</th>\n      <th>mfcc0</th>\n      <th>mfcc1</th>\n      <th>mfcc2</th>\n      <th>mfcc3</th>\n      <th>...</th>\n      <th>mfcc11</th>\n      <th>mfcc12</th>\n      <th>mfcc13</th>\n      <th>mfcc14</th>\n      <th>mfcc15</th>\n      <th>mfcc16</th>\n      <th>mfcc17</th>\n      <th>mfcc18</th>\n      <th>mfcc19</th>\n      <th>genre</th>\n    </tr>\n  </thead>\n  <tbody>\n    <tr>\n      <th>1</th>\n      <td>0.350088</td>\n      <td>0.130228</td>\n      <td>1784.165850</td>\n      <td>2002.449060</td>\n      <td>3805.839606</td>\n      <td>0.083045</td>\n      <td>-113.570650</td>\n      <td>121.571790</td>\n      <td>-19.168142</td>\n      <td>42.366420</td>\n      <td>...</td>\n      <td>8.803792</td>\n      <td>-3.672300</td>\n      <td>5.747995</td>\n      <td>-5.162882</td>\n      <td>0.752740</td>\n      <td>-1.690215</td>\n      <td>-0.408979</td>\n      <td>-2.303523</td>\n      <td>1.221290</td>\n      <td>blues</td>\n    </tr>\n    <tr>\n      <th>2</th>\n      <td>0.340914</td>\n      <td>0.095948</td>\n      <td>1530.176679</td>\n      <td>2039.036516</td>\n      <td>3550.522098</td>\n      <td>0.056040</td>\n      <td>-207.501700</td>\n      <td>123.991264</td>\n      <td>8.955127</td>\n      <td>35.877647</td>\n      <td>...</td>\n      <td>5.376328</td>\n      <td>-2.231760</td>\n      <td>4.220140</td>\n      <td>-6.012148</td>\n      <td>0.927997</td>\n      <td>-0.731125</td>\n      <td>0.295073</td>\n      <td>-0.283518</td>\n      <td>0.531216</td>\n      <td>blues</td>\n    </tr>\n    <tr>\n      <th>3</th>\n      <td>0.363637</td>\n      <td>0.175570</td>\n      <td>1552.811865</td>\n      <td>1747.702312</td>\n      <td>3042.260232</td>\n      <td>0.076291</td>\n      <td>-90.722595</td>\n      <td>140.446300</td>\n      <td>-29.093890</td>\n      <td>31.684334</td>\n      <td>...</td>\n      <td>5.791199</td>\n      <td>-8.907628</td>\n      <td>-1.077000</td>\n      <td>-9.229274</td>\n      <td>2.451689</td>\n      <td>-7.729094</td>\n      <td>-1.816407</td>\n      <td>-3.439720</td>\n      <td>-2.231259</td>\n      <td>blues</td>\n    </tr>\n    <tr>\n      <th>4</th>\n      <td>0.404785</td>\n      <td>0.141093</td>\n      <td>1070.106615</td>\n      <td>1596.412872</td>\n      <td>2184.745799</td>\n      <td>0.033309</td>\n      <td>-199.544200</td>\n      <td>150.090900</td>\n      <td>5.662678</td>\n      <td>26.859080</td>\n      <td>...</td>\n      <td>6.079319</td>\n      <td>-2.480174</td>\n      <td>-1.079305</td>\n      <td>-2.870789</td>\n      <td>0.780873</td>\n      <td>-3.319596</td>\n      <td>0.636965</td>\n      <td>-0.619121</td>\n      <td>-3.407449</td>\n      <td>blues</td>\n    </tr>\n    <tr>\n      <th>5</th>\n      <td>0.308526</td>\n      <td>0.091529</td>\n      <td>1835.004266</td>\n      <td>1748.172116</td>\n      <td>3579.757627</td>\n      <td>0.101461</td>\n      <td>-160.337700</td>\n      <td>126.219635</td>\n      <td>-35.587810</td>\n      <td>22.148071</td>\n      <td>...</td>\n      <td>-2.813867</td>\n      <td>-6.933385</td>\n      <td>-7.552725</td>\n      <td>-9.164666</td>\n      <td>-4.520575</td>\n      <td>-5.454034</td>\n      <td>-0.916874</td>\n      <td>-4.404826</td>\n      <td>-11.703234</td>\n      <td>blues</td>\n    </tr>\n    <tr>\n      <th>...</th>\n      <td>...</td>\n      <td>...</td>\n      <td>...</td>\n      <td>...</td>\n      <td>...</td>\n      <td>...</td>\n      <td>...</td>\n      <td>...</td>\n      <td>...</td>\n      <td>...</td>\n      <td>...</td>\n      <td>...</td>\n      <td>...</td>\n      <td>...</td>\n      <td>...</td>\n      <td>...</td>\n      <td>...</td>\n      <td>...</td>\n      <td>...</td>\n      <td>...</td>\n      <td>...</td>\n    </tr>\n    <tr>\n      <th>996</th>\n      <td>0.352063</td>\n      <td>0.079486</td>\n      <td>2008.149458</td>\n      <td>2106.541053</td>\n      <td>4253.557033</td>\n      <td>0.089227</td>\n      <td>-153.640960</td>\n      <td>109.864650</td>\n      <td>-23.065697</td>\n      <td>59.050125</td>\n      <td>...</td>\n      <td>12.348828</td>\n      <td>-12.297895</td>\n      <td>5.777902</td>\n      <td>-10.273881</td>\n      <td>1.789867</td>\n      <td>-13.289984</td>\n      <td>2.484145</td>\n      <td>-6.713265</td>\n      <td>-1.193787</td>\n      <td>rock</td>\n    </tr>\n    <tr>\n      <th>997</th>\n      <td>0.398687</td>\n      <td>0.076458</td>\n      <td>2006.843354</td>\n      <td>2068.942009</td>\n      <td>4149.338328</td>\n      <td>0.097664</td>\n      <td>-142.392030</td>\n      <td>116.189630</td>\n      <td>-32.147167</td>\n      <td>49.117840</td>\n      <td>...</td>\n      <td>14.080058</td>\n      <td>-16.392994</td>\n      <td>4.154395</td>\n      <td>-4.364872</td>\n      <td>3.739020</td>\n      <td>-10.848310</td>\n      <td>1.881228</td>\n      <td>-7.461491</td>\n      <td>-2.795339</td>\n      <td>rock</td>\n    </tr>\n    <tr>\n      <th>998</th>\n      <td>0.432142</td>\n      <td>0.081651</td>\n      <td>2077.526598</td>\n      <td>1927.293153</td>\n      <td>4031.405321</td>\n      <td>0.121823</td>\n      <td>-124.952270</td>\n      <td>115.177155</td>\n      <td>-47.975150</td>\n      <td>52.814674</td>\n      <td>...</td>\n      <td>10.474113</td>\n      <td>-17.947060</td>\n      <td>1.212127</td>\n      <td>-11.519417</td>\n      <td>1.838090</td>\n      <td>-12.845291</td>\n      <td>3.440978</td>\n      <td>-12.588070</td>\n      <td>-2.106337</td>\n      <td>rock</td>\n    </tr>\n    <tr>\n      <th>999</th>\n      <td>0.362485</td>\n      <td>0.083860</td>\n      <td>1398.699344</td>\n      <td>1818.450280</td>\n      <td>3015.631004</td>\n      <td>0.048724</td>\n      <td>-225.007750</td>\n      <td>123.646770</td>\n      <td>-9.724175</td>\n      <td>56.605164</td>\n      <td>...</td>\n      <td>7.682845</td>\n      <td>-10.070732</td>\n      <td>-0.256386</td>\n      <td>-5.275369</td>\n      <td>-2.812177</td>\n      <td>-4.416050</td>\n      <td>1.556207</td>\n      <td>-5.041897</td>\n      <td>-3.590644</td>\n      <td>rock</td>\n    </tr>\n    <tr>\n      <th>1000</th>\n      <td>0.358401</td>\n      <td>0.054454</td>\n      <td>1609.795082</td>\n      <td>1797.213044</td>\n      <td>3246.908930</td>\n      <td>0.076305</td>\n      <td>-235.161970</td>\n      <td>123.870094</td>\n      <td>-22.538395</td>\n      <td>52.939743</td>\n      <td>...</td>\n      <td>10.076435</td>\n      <td>-15.024692</td>\n      <td>3.116931</td>\n      <td>-7.123282</td>\n      <td>1.794104</td>\n      <td>-7.069775</td>\n      <td>0.028346</td>\n      <td>-2.025782</td>\n      <td>1.155238</td>\n      <td>rock</td>\n    </tr>\n  </tbody>\n</table>\n<p>985 rows × 27 columns</p>\n</div>"
     },
     "execution_count": 6,
     "metadata": {},
     "output_type": "execute_result"
    }
   ],
   "source": [
    "dt.remove_duplicates(df, same_label=False, inplace=True)"
   ]
  },
  {
   "cell_type": "code",
   "execution_count": 63,
   "metadata": {
    "pycharm": {
     "name": "#%%\n"
    }
   },
   "outputs": [
    {
     "data": {
      "text/plain": "genre\nblues        100\nclassical    100\ncountry      100\ndisco         99\nhiphop        98\njazz         100\nmetal         92\npop           98\nreggae        99\nrock          99\nName: chromagram, dtype: int64"
     },
     "execution_count": 63,
     "metadata": {},
     "output_type": "execute_result"
    }
   ],
   "source": [
    "genre_count = df.groupby('genre').count()\n",
    "genre_count.iloc[:, 0]"
   ]
  },
  {
   "cell_type": "code",
   "execution_count": 8,
   "metadata": {
    "pycharm": {
     "name": "#%%\n"
    }
   },
   "outputs": [
    {
     "data": {
      "text/plain": "       chromagram     rms  spec_cent  spec_bw  rolloff     zcr   mfcc0  \\\ncount      985.00  985.00     985.00   985.00   985.00  985.00  985.00   \nmean         0.38    0.13    2194.40  2239.71  4558.77    0.10 -145.38   \nstd          0.08    0.07     716.93   527.25  1578.03    0.04  100.62   \nmin          0.17    0.01     570.04   898.07   749.14    0.02 -552.12   \n25%          0.32    0.09    1615.94  1899.19  3362.19    0.07 -202.06   \n50%          0.38    0.12    2192.65  2218.68  4615.98    0.10 -121.14   \n75%          0.43    0.18    2685.53  2576.47  5534.64    0.13  -74.06   \nmax          0.66    0.40    4435.24  3509.65  8677.67    0.27   42.04   \n\n        mfcc1   mfcc2   mfcc3  ...  mfcc10  mfcc11  mfcc12  mfcc13  mfcc14  \\\ncount  985.00  985.00  985.00  ...  985.00  985.00  985.00  985.00  985.00   \nmean    99.81   -8.72   36.24  ...   -5.97    4.41   -4.71    1.76   -3.85   \nstd     31.42   21.50   16.66  ...    6.79    6.72    6.08    5.02    4.87   \nmin     -1.46  -89.87  -18.73  ...  -28.06  -15.80  -27.52  -12.59  -17.54   \n25%     76.78  -23.83   24.12  ...  -10.81   -0.58   -9.26   -1.66   -7.11   \n50%     98.66  -10.66   36.83  ...   -5.89    3.84   -4.13    1.88   -3.58   \n75%    120.29    5.61   47.98  ...   -1.03    9.58   -0.15    5.14   -0.31   \nmax    193.10   56.68   80.70  ...   17.42   23.03   13.05   18.18   12.36   \n\n       mfcc15  mfcc16  mfcc17  mfcc18  mfcc19  \ncount  985.00  985.00  985.00  985.00  985.00  \nmean     1.10   -3.93    0.47   -2.29   -1.11  \nstd      4.57    4.54    3.87    3.72    3.85  \nmin    -15.69  -17.23  -11.96  -18.50  -19.93  \n25%     -1.88   -7.14   -2.04   -4.60   -3.39  \n50%      1.17   -4.04    0.65   -2.38   -1.19  \n75%      4.30   -0.83    3.07    0.18    1.30  \nmax     13.46   11.48   15.39   14.69   15.37  \n\n[8 rows x 26 columns]",
      "text/html": "<div>\n<style scoped>\n    .dataframe tbody tr th:only-of-type {\n        vertical-align: middle;\n    }\n\n    .dataframe tbody tr th {\n        vertical-align: top;\n    }\n\n    .dataframe thead th {\n        text-align: right;\n    }\n</style>\n<table border=\"1\" class=\"dataframe\">\n  <thead>\n    <tr style=\"text-align: right;\">\n      <th></th>\n      <th>chromagram</th>\n      <th>rms</th>\n      <th>spec_cent</th>\n      <th>spec_bw</th>\n      <th>rolloff</th>\n      <th>zcr</th>\n      <th>mfcc0</th>\n      <th>mfcc1</th>\n      <th>mfcc2</th>\n      <th>mfcc3</th>\n      <th>...</th>\n      <th>mfcc10</th>\n      <th>mfcc11</th>\n      <th>mfcc12</th>\n      <th>mfcc13</th>\n      <th>mfcc14</th>\n      <th>mfcc15</th>\n      <th>mfcc16</th>\n      <th>mfcc17</th>\n      <th>mfcc18</th>\n      <th>mfcc19</th>\n    </tr>\n  </thead>\n  <tbody>\n    <tr>\n      <th>count</th>\n      <td>985.00</td>\n      <td>985.00</td>\n      <td>985.00</td>\n      <td>985.00</td>\n      <td>985.00</td>\n      <td>985.00</td>\n      <td>985.00</td>\n      <td>985.00</td>\n      <td>985.00</td>\n      <td>985.00</td>\n      <td>...</td>\n      <td>985.00</td>\n      <td>985.00</td>\n      <td>985.00</td>\n      <td>985.00</td>\n      <td>985.00</td>\n      <td>985.00</td>\n      <td>985.00</td>\n      <td>985.00</td>\n      <td>985.00</td>\n      <td>985.00</td>\n    </tr>\n    <tr>\n      <th>mean</th>\n      <td>0.38</td>\n      <td>0.13</td>\n      <td>2194.40</td>\n      <td>2239.71</td>\n      <td>4558.77</td>\n      <td>0.10</td>\n      <td>-145.38</td>\n      <td>99.81</td>\n      <td>-8.72</td>\n      <td>36.24</td>\n      <td>...</td>\n      <td>-5.97</td>\n      <td>4.41</td>\n      <td>-4.71</td>\n      <td>1.76</td>\n      <td>-3.85</td>\n      <td>1.10</td>\n      <td>-3.93</td>\n      <td>0.47</td>\n      <td>-2.29</td>\n      <td>-1.11</td>\n    </tr>\n    <tr>\n      <th>std</th>\n      <td>0.08</td>\n      <td>0.07</td>\n      <td>716.93</td>\n      <td>527.25</td>\n      <td>1578.03</td>\n      <td>0.04</td>\n      <td>100.62</td>\n      <td>31.42</td>\n      <td>21.50</td>\n      <td>16.66</td>\n      <td>...</td>\n      <td>6.79</td>\n      <td>6.72</td>\n      <td>6.08</td>\n      <td>5.02</td>\n      <td>4.87</td>\n      <td>4.57</td>\n      <td>4.54</td>\n      <td>3.87</td>\n      <td>3.72</td>\n      <td>3.85</td>\n    </tr>\n    <tr>\n      <th>min</th>\n      <td>0.17</td>\n      <td>0.01</td>\n      <td>570.04</td>\n      <td>898.07</td>\n      <td>749.14</td>\n      <td>0.02</td>\n      <td>-552.12</td>\n      <td>-1.46</td>\n      <td>-89.87</td>\n      <td>-18.73</td>\n      <td>...</td>\n      <td>-28.06</td>\n      <td>-15.80</td>\n      <td>-27.52</td>\n      <td>-12.59</td>\n      <td>-17.54</td>\n      <td>-15.69</td>\n      <td>-17.23</td>\n      <td>-11.96</td>\n      <td>-18.50</td>\n      <td>-19.93</td>\n    </tr>\n    <tr>\n      <th>25%</th>\n      <td>0.32</td>\n      <td>0.09</td>\n      <td>1615.94</td>\n      <td>1899.19</td>\n      <td>3362.19</td>\n      <td>0.07</td>\n      <td>-202.06</td>\n      <td>76.78</td>\n      <td>-23.83</td>\n      <td>24.12</td>\n      <td>...</td>\n      <td>-10.81</td>\n      <td>-0.58</td>\n      <td>-9.26</td>\n      <td>-1.66</td>\n      <td>-7.11</td>\n      <td>-1.88</td>\n      <td>-7.14</td>\n      <td>-2.04</td>\n      <td>-4.60</td>\n      <td>-3.39</td>\n    </tr>\n    <tr>\n      <th>50%</th>\n      <td>0.38</td>\n      <td>0.12</td>\n      <td>2192.65</td>\n      <td>2218.68</td>\n      <td>4615.98</td>\n      <td>0.10</td>\n      <td>-121.14</td>\n      <td>98.66</td>\n      <td>-10.66</td>\n      <td>36.83</td>\n      <td>...</td>\n      <td>-5.89</td>\n      <td>3.84</td>\n      <td>-4.13</td>\n      <td>1.88</td>\n      <td>-3.58</td>\n      <td>1.17</td>\n      <td>-4.04</td>\n      <td>0.65</td>\n      <td>-2.38</td>\n      <td>-1.19</td>\n    </tr>\n    <tr>\n      <th>75%</th>\n      <td>0.43</td>\n      <td>0.18</td>\n      <td>2685.53</td>\n      <td>2576.47</td>\n      <td>5534.64</td>\n      <td>0.13</td>\n      <td>-74.06</td>\n      <td>120.29</td>\n      <td>5.61</td>\n      <td>47.98</td>\n      <td>...</td>\n      <td>-1.03</td>\n      <td>9.58</td>\n      <td>-0.15</td>\n      <td>5.14</td>\n      <td>-0.31</td>\n      <td>4.30</td>\n      <td>-0.83</td>\n      <td>3.07</td>\n      <td>0.18</td>\n      <td>1.30</td>\n    </tr>\n    <tr>\n      <th>max</th>\n      <td>0.66</td>\n      <td>0.40</td>\n      <td>4435.24</td>\n      <td>3509.65</td>\n      <td>8677.67</td>\n      <td>0.27</td>\n      <td>42.04</td>\n      <td>193.10</td>\n      <td>56.68</td>\n      <td>80.70</td>\n      <td>...</td>\n      <td>17.42</td>\n      <td>23.03</td>\n      <td>13.05</td>\n      <td>18.18</td>\n      <td>12.36</td>\n      <td>13.46</td>\n      <td>11.48</td>\n      <td>15.39</td>\n      <td>14.69</td>\n      <td>15.37</td>\n    </tr>\n  </tbody>\n</table>\n<p>8 rows × 26 columns</p>\n</div>"
     },
     "metadata": {},
     "output_type": "display_data"
    }
   ],
   "source": [
    "display(df.describe().round(2))"
   ]
  },
  {
   "cell_type": "code",
   "execution_count": 9,
   "metadata": {
    "pycharm": {
     "name": "#%%\n"
    }
   },
   "outputs": [
    {
     "data": {
      "text/plain": "chromagram   -0.014797\nrms           0.443598\nspec_cent     0.246645\nspec_bw       0.101700\nrolloff       0.122530\nzcr           0.567790\nmfcc0        -1.001532\nmfcc1         0.253905\nmfcc2         0.279501\nmfcc3         0.025488\nmfcc4        -0.211812\nmfcc5        -0.054787\nmfcc6         0.042610\nmfcc7        -0.017820\nmfcc8         0.033529\nmfcc9        -0.009325\nmfcc10       -0.140464\nmfcc11        0.067330\nmfcc12       -0.238859\nmfcc13       -0.032204\nmfcc14       -0.115915\nmfcc15       -0.249302\nmfcc16        0.140106\nmfcc17       -0.003676\nmfcc18        0.039581\nmfcc19       -0.274902\ndtype: float64"
     },
     "execution_count": 9,
     "metadata": {},
     "output_type": "execute_result"
    }
   ],
   "source": [
    "# Skewness measures the symmetry of the distribution\n",
    "# skewness between -0.5 and 0.5 -> the data are fairly symmetrical\n",
    "# skewness between -1 and  -0.5 or between 0.5 and 1 -> the data are moderately skewed\n",
    "# skewness less than -1 or greater than 1 -> the data are highly skewed\n",
    "df.skew(axis=0, numeric_only=True)"
   ]
  },
  {
   "cell_type": "code",
   "execution_count": 10,
   "metadata": {
    "pycharm": {
     "name": "#%%\n"
    }
   },
   "outputs": [
    {
     "data": {
      "text/plain": "chromagram   -0.322605\nrms          -0.117213\nspec_cent    -0.433554\nspec_bw      -0.442866\nrolloff      -0.473563\nzcr           0.064913\nmfcc0         0.977505\nmfcc1        -0.205709\nmfcc2        -0.094163\nmfcc3        -0.397039\nmfcc4        -0.273843\nmfcc5        -0.708001\nmfcc6        -0.763563\nmfcc7        -0.516002\nmfcc8        -0.557575\nmfcc9        -0.801357\nmfcc10       -0.225266\nmfcc11       -0.531170\nmfcc12       -0.300971\nmfcc13       -0.153715\nmfcc14       -0.120889\nmfcc15        0.416459\nmfcc16        0.047514\nmfcc17        0.442655\nmfcc18        1.207885\nmfcc19        2.093001\ndtype: float64"
     },
     "execution_count": 10,
     "metadata": {},
     "output_type": "execute_result"
    }
   ],
   "source": [
    "# Fisher’s definition of Kurtosis.\n",
    "# Kurtosis determines the heaviness of the distribution tails\n",
    "# kurtosis = 0 -> normal distribution\n",
    "# kurtosis > 0 -> sharper peak and heavier tails compared to a normal distribution\n",
    "#               (fewer data values located near the center and more data values that are spread out along the tails)\n",
    "# kurtosis < 0 -> flatter peak and thinner tails compared to a normal distribution\n",
    "#               (more data values located near the center and less data values in the tails)\n",
    "df.kurtosis(axis=0, numeric_only=True)"
   ]
  },
  {
   "cell_type": "code",
   "execution_count": 11,
   "metadata": {
    "pycharm": {
     "name": "#%%\n"
    }
   },
   "outputs": [],
   "source": [
    "# fig, ax = plt.subplots(len(df.columns)-1, 2, figsize=(25, 40))\n",
    "# for i, column in enumerate(df.columns, 0):\n",
    "#     if column != 'genre':\n",
    "#         sns.boxplot(x=df[column], ax=ax[i,0])\n",
    "#         sns.histplot(x=df[column], kde=True, ax=ax[i,1])\n",
    "# plt.tight_layout()"
   ]
  },
  {
   "cell_type": "code",
   "execution_count": 80,
   "outputs": [
    {
     "data": {
      "text/plain": "HZResults(hz=1.0682626911461903, pval=0.0, normal=False)"
     },
     "execution_count": 80,
     "metadata": {},
     "output_type": "execute_result"
    }
   ],
   "source": [
    "# Multivariate Normality Test\n",
    "# p <= alpha =>  The data do not follow a normal distribution (Reject H0 hypothesis)\n",
    "alpha = 0.05\n",
    "pg.multivariate_normality(df[df.columns[0:-1]], alpha=alpha)"
   ],
   "metadata": {
    "collapsed": false,
    "pycharm": {
     "name": "#%%\n"
    }
   }
  },
  {
   "cell_type": "code",
   "execution_count": 97,
   "outputs": [
    {
     "name": "stdout",
     "output_type": "stream",
     "text": [
      "H0: the data follows a normal distribution\n",
      "\n",
      "chromagram => pVal: 0.053 - H0 can be rejected: False\n",
      "rms => pVal: 0.0 - H0 can be rejected: True\n",
      "spec_cent => pVal: 0.0 - H0 can be rejected: True\n",
      "spec_bw => pVal: 0.001 - H0 can be rejected: True\n",
      "rolloff => pVal: 0.0 - H0 can be rejected: True\n",
      "zcr => pVal: 0.0 - H0 can be rejected: True\n",
      "mfcc0 => pVal: 0.0 - H0 can be rejected: True\n",
      "mfcc1 => pVal: 0.002 - H0 can be rejected: True\n",
      "mfcc2 => pVal: 0.002 - H0 can be rejected: True\n",
      "mfcc3 => pVal: 0.007 - H0 can be rejected: True\n",
      "mfcc4 => pVal: 0.004 - H0 can be rejected: True\n",
      "mfcc5 => pVal: 0.0 - H0 can be rejected: True\n",
      "mfcc6 => pVal: 0.0 - H0 can be rejected: True\n",
      "mfcc7 => pVal: 0.0 - H0 can be rejected: True\n",
      "mfcc8 => pVal: 0.0 - H0 can be rejected: True\n",
      "mfcc9 => pVal: 0.0 - H0 can be rejected: True\n",
      "mfcc10 => pVal: 0.058 - H0 can be rejected: False\n",
      "mfcc11 => pVal: 0.0 - H0 can be rejected: True\n",
      "mfcc12 => pVal: 0.001 - H0 can be rejected: True\n",
      "mfcc13 => pVal: 0.555 - H0 can be rejected: False\n",
      "mfcc14 => pVal: 0.248 - H0 can be rejected: False\n",
      "mfcc15 => pVal: 0.0 - H0 can be rejected: True\n",
      "mfcc16 => pVal: 0.185 - H0 can be rejected: False\n",
      "mfcc17 => pVal: 0.05 - H0 can be rejected: False\n",
      "mfcc18 => pVal: 0.0 - H0 can be rejected: True\n",
      "mfcc19 => pVal: 0.0 - H0 can be rejected: True\n"
     ]
    },
    {
     "data": {
      "text/plain": "HZResults(hz=2.4890726762741457, pval=1.6007023436301505e-172, normal=False)"
     },
     "execution_count": 97,
     "metadata": {},
     "output_type": "execute_result"
    }
   ],
   "source": [
    "# Univariate Normality Test\n",
    "k2, p = stats.normaltest(df[df.columns[0:-1]])\n",
    "index = 0\n",
    "indexes = []\n",
    "print(\"H0: the data follows a normal distribution\\n\")\n",
    "for feature, p in zip(df.columns[0:-1], p):\n",
    "    print(f'{feature} => pVal: {p.round(3)} - H0 can be rejected: {p<alpha}')\n",
    "    if p > alpha:\n",
    "        indexes.append(index)\n",
    "    index += 1\n",
    "\n",
    "pg.multivariate_normality(df.iloc[:, indexes], alpha=alpha)"
   ],
   "metadata": {
    "collapsed": false,
    "pycharm": {
     "name": "#%%\n"
    }
   }
  },
  {
   "cell_type": "code",
   "execution_count": null,
   "metadata": {
    "pycharm": {
     "name": "#%%\n"
    }
   },
   "outputs": [],
   "source": [
    "# sns.set(rc={'figure.figsize':(11.7,8.27)})\n",
    "# sns.pairplot(df, diag_kind='kde', corner=True)"
   ]
  },
  {
   "cell_type": "code",
   "execution_count": null,
   "metadata": {
    "pycharm": {
     "name": "#%%\n"
    }
   },
   "outputs": [],
   "source": [
    "# Compute the correlation matrix\n",
    "corr = df.corr().round(2)\n",
    "\n",
    "# Generate a mask for the upper triangle\n",
    "mask = np.triu(np.ones_like(corr, dtype=bool))\n",
    "\n",
    "# Set up the matplotlib figure\n",
    "f, ax = plt.subplots(figsize=(19, 14), dpi=200)\n",
    "\n",
    "# Generate a custom diverging colormap\n",
    "cmap = sns.diverging_palette(240, 15, as_cmap=True)\n",
    "\n",
    "# Draw the heatmap with the mask and correct aspect ratio\n",
    "sns.heatmap(corr, mask=mask, cmap=cmap, vmax=.3, center=0,\n",
    "            square=True, linewidths=.5, annot=True, cbar_kws={\"shrink\": .5})\n",
    "\n",
    "# plt.figure(figsize=(20,15))\n",
    "# sns.heatmap(df.corr(),cmap=plt.cm.Reds,annot=True)\n",
    "plt.title('Heatmap displaying the relationship between\\nthe features of the data',\n",
    "         fontsize=13)\n",
    "plt.show()\n"
   ]
  }
 ],
 "metadata": {
  "kernelspec": {
   "display_name": "Python 3 (ipykernel)",
   "language": "python",
   "name": "python3"
  },
  "language_info": {
   "codemirror_mode": {
    "name": "ipython",
    "version": 3
   },
   "file_extension": ".py",
   "mimetype": "text/x-python",
   "name": "python",
   "nbconvert_exporter": "python",
   "pygments_lexer": "ipython3",
   "version": "3.9.1"
  }
 },
 "nbformat": 4,
 "nbformat_minor": 1
}